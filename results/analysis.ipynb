{
 "cells": [
  {
   "cell_type": "code",
   "execution_count": 1,
   "metadata": {},
   "outputs": [
    {
     "ename": "KeyError",
     "evalue": "'kernel-v38738f2884d9549e06775eb8e4c06fc880820ca8c'",
     "output_type": "error",
     "traceback": [
      "\u001b[0;31m---------------------------------------------------------------------------\u001b[0m",
      "\u001b[0;31mKeyError\u001b[0m                                  Traceback (most recent call last)",
      "Cell \u001b[0;32mIn[1], line 4\u001b[0m\n\u001b[1;32m      2\u001b[0m \u001b[38;5;28;01mimport\u001b[39;00m \u001b[38;5;21;01msys\u001b[39;00m\n\u001b[1;32m      3\u001b[0m sys\u001b[38;5;241m.\u001b[39mpath\u001b[38;5;241m.\u001b[39mappend(\u001b[38;5;124m'\u001b[39m\u001b[38;5;124m/home/localssk23/localdp/\u001b[39m\u001b[38;5;124m'\u001b[39m)\n\u001b[0;32m----> 4\u001b[0m \u001b[38;5;28;01mfrom\u001b[39;00m \u001b[38;5;21;01mconfig\u001b[39;00m \u001b[38;5;28;01mimport\u001b[39;00m CONFIG\n",
      "File \u001b[0;32m~/localdp/config.py:17\u001b[0m\n\u001b[1;32m      7\u001b[0m CONFIG \u001b[38;5;241m=\u001b[39m {\n\u001b[1;32m      8\u001b[0m    \u001b[38;5;124m\"\u001b[39m\u001b[38;5;124mbatch_size\u001b[39m\u001b[38;5;124m\"\u001b[39m: \u001b[38;5;241m1024\u001b[39m,\n\u001b[1;32m      9\u001b[0m    \u001b[38;5;124m\"\u001b[39m\u001b[38;5;124mnum_epochs\u001b[39m\u001b[38;5;124m\"\u001b[39m: \u001b[38;5;241m2\u001b[39m,\n\u001b[0;32m   (...)\u001b[0m\n\u001b[1;32m     13\u001b[0m    \u001b[38;5;124m\"\u001b[39m\u001b[38;5;124msplit_ratio\u001b[39m\u001b[38;5;124m\"\u001b[39m: \u001b[38;5;241m0.1\u001b[39m\n\u001b[1;32m     14\u001b[0m }\n\u001b[1;32m     16\u001b[0m data_flag \u001b[38;5;241m=\u001b[39m CONFIG[\u001b[38;5;124m'\u001b[39m\u001b[38;5;124mdata_path\u001b[39m\u001b[38;5;124m'\u001b[39m]\u001b[38;5;241m.\u001b[39msplit(\u001b[38;5;124m'\u001b[39m\u001b[38;5;124m/\u001b[39m\u001b[38;5;124m'\u001b[39m)[\u001b[38;5;241m-\u001b[39m\u001b[38;5;241m1\u001b[39m]\u001b[38;5;241m.\u001b[39msplit(\u001b[38;5;124m'\u001b[39m\u001b[38;5;124m.\u001b[39m\u001b[38;5;124m'\u001b[39m)[\u001b[38;5;241m0\u001b[39m]\n\u001b[0;32m---> 17\u001b[0m info \u001b[38;5;241m=\u001b[39m \u001b[43mINFO\u001b[49m\u001b[43m[\u001b[49m\u001b[43mdata_flag\u001b[49m\u001b[43m]\u001b[49m\n\u001b[1;32m     19\u001b[0m CONFIG[\u001b[38;5;124m'\u001b[39m\u001b[38;5;124mnum_classes\u001b[39m\u001b[38;5;124m'\u001b[39m] \u001b[38;5;241m=\u001b[39m \u001b[38;5;28mlen\u001b[39m(info[\u001b[38;5;124m'\u001b[39m\u001b[38;5;124mlabel\u001b[39m\u001b[38;5;124m'\u001b[39m])\n\u001b[1;32m     20\u001b[0m CONFIG[\u001b[38;5;124m'\u001b[39m\u001b[38;5;124mnum_channels\u001b[39m\u001b[38;5;124m'\u001b[39m] \u001b[38;5;241m=\u001b[39m info[\u001b[38;5;124m'\u001b[39m\u001b[38;5;124mn_channels\u001b[39m\u001b[38;5;124m'\u001b[39m]\n",
      "\u001b[0;31mKeyError\u001b[0m: 'kernel-v38738f2884d9549e06775eb8e4c06fc880820ca8c'"
     ]
    }
   ],
   "source": [
    "import pandas as pd\n",
    "import sys\n",
    "sys.path.append('/home/localssk23/localdp/')\n",
    "from config import CONFIG"
   ]
  },
  {
   "cell_type": "code",
   "execution_count": 2,
   "metadata": {},
   "outputs": [],
   "source": [
    "result_path = CONFIG['result_path']\n",
    "dataset_name = CONFIG['data_path'].split('/')[-1].split('.')[0]"
   ]
  },
  {
   "cell_type": "markdown",
   "metadata": {},
   "source": [
    "# Overall Score"
   ]
  },
  {
   "cell_type": "code",
   "execution_count": 3,
   "metadata": {},
   "outputs": [
    {
     "name": "stdout",
     "output_type": "stream",
     "text": [
      "Noise Level  AUC Score  Accuracy\n",
      "   Original   0.839539 66.197183\n",
      "     1pixel   0.818262 66.197183\n",
      "          1   0.810284 66.197183\n",
      "          5   0.833333 66.197183\n",
      "         10   0.802305 66.197183\n",
      "         25   0.824468 66.197183\n",
      "         50   0.788121 66.197183\n",
      "         75   0.861702 66.197183\n",
      "         90   0.817376 66.197183\n",
      "         99   0.846631 66.197183\n"
     ]
    }
   ],
   "source": [
    "overall_table = pd.read_csv(result_path + dataset_name + '_' + 'overall_results.csv')\n",
    "\n",
    "# Correct column names for AUC and Accuracy\n",
    "auc_columns = ['Overall_AUC_original', 'Overall_AUC_noisy_1pixel'] + [f'Overall_AUC_noisy_{i}%' for i in [1, 5, 10, 25, 50, 75, 90, 99]]\n",
    "acc_columns = ['Overall_Accuracy_original', 'Overall_Accuracy_noisy_1pixel'] + [f'Overall_Accuracy_noisy_{i}%' for i in [1, 5, 10, 25, 50, 75, 90, 99]]\n",
    "\n",
    "# Create separate tables\n",
    "auc_table = pd.DataFrame({\n",
    "    'Noise Level': ['Original', '1pixel', '1', '5', '10', '25', '50', '75', '90', '99'],\n",
    "    'AUC Score': [overall_table[col].values[0] for col in auc_columns]\n",
    "})\n",
    "\n",
    "acc_table = pd.DataFrame({\n",
    "    'Noise Level': ['Original', '1pixel', '1', '5', '10', '25', '50', '75', '90', '99'],\n",
    "    'Accuracy': [overall_table[col].values[0] for col in acc_columns]\n",
    "})\n",
    "\n",
    "# combine tables\n",
    "combined_table = pd.concat([auc_table, acc_table['Accuracy']], axis=1)\n",
    "\n",
    "print(combined_table.to_string(index=False))"
   ]
  },
  {
   "cell_type": "markdown",
   "metadata": {},
   "source": [
    "# Classwise Scores"
   ]
  },
  {
   "cell_type": "code",
   "execution_count": 4,
   "metadata": {},
   "outputs": [
    {
     "name": "stdout",
     "output_type": "stream",
     "text": [
      "Dataset                 Metric breastmnist       \n",
      "Class                                    0      1\n",
      "0            Accuracy_original         0.0  100.0\n",
      "1        Accuracy_noisy_1pixel         0.0  100.0\n",
      "2            Accuracy_noisy_1%         0.0  100.0\n",
      "3            Accuracy_noisy_5%         0.0  100.0\n",
      "4           Accuracy_noisy_10%         0.0  100.0\n",
      "5           Accuracy_noisy_25%         0.0  100.0\n",
      "6           Accuracy_noisy_50%         0.0  100.0\n",
      "7           Accuracy_noisy_75%         0.0  100.0\n",
      "8           Accuracy_noisy_90%         0.0  100.0\n",
      "9           Accuracy_noisy_99%         0.0  100.0\n"
     ]
    }
   ],
   "source": [
    "class_table = pd.read_csv(result_path + dataset_name + '_' + 'class_results.csv')\n",
    "\n",
    "# Create the DataFrame from the original data\n",
    "df = pd.DataFrame(class_table)\n",
    "\n",
    "# Remove the 'Split' column\n",
    "df = df.drop(columns=['Split'])\n",
    "\n",
    "# Transpose using set_index and transpose\n",
    "transposed_df = df.set_index([\"Dataset\", \"Class\"]).transpose()\n",
    "transposed_df.reset_index(inplace=True)\n",
    "\n",
    "# Make it more presentable by renaming columns\n",
    "transposed_df.rename(columns={\"index\": \"Metric\"}, inplace=True)\n",
    "transposed_df.columns.name = None\n",
    "\n",
    "# Display the formatted DataFrame\n",
    "print(transposed_df)"
   ]
  }
 ],
 "metadata": {
  "kernelspec": {
   "display_name": "cucim",
   "language": "python",
   "name": "python3"
  },
  "language_info": {
   "codemirror_mode": {
    "name": "ipython",
    "version": 3
   },
   "file_extension": ".py",
   "mimetype": "text/x-python",
   "name": "python",
   "nbconvert_exporter": "python",
   "pygments_lexer": "ipython3",
   "version": "3.8.19"
  }
 },
 "nbformat": 4,
 "nbformat_minor": 2
}
