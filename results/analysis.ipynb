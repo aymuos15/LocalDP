{
 "cells": [
  {
   "cell_type": "code",
   "execution_count": 6,
   "metadata": {},
   "outputs": [
    {
     "name": "stdout",
     "output_type": "stream",
     "text": [
      "           Dataset      Loader  Class    Accuracy  Accuracy Corrupted\n",
      "0  breastmnist_224        Full      0    0.000000            0.000000\n",
      "1  breastmnist_224        Full      1  100.000000          100.000000\n",
      "2  breastmnist_224  LargeSplit      0   79.166667           77.142857\n",
      "3  breastmnist_224  LargeSplit      1   36.170213           39.649123\n",
      "4  breastmnist_224  SmallSplit      0    0.000000            0.000000\n",
      "5  breastmnist_224  SmallSplit      1  100.000000          100.000000\n",
      "\n",
      "           Dataset      Loader  Overall Accuracy  Overall Accuracy Corrupted  Overall AUC  Overall AUC Corrupted\n",
      "0  breastmnist_224        Full         66.197183                   73.076923     0.781028               0.716525\n",
      "1  breastmnist_224  LargeSplit         50.704225                   49.743590     0.382979               0.487318\n",
      "2  breastmnist_224  SmallSplit         66.197183                   73.076923     0.771277               0.740192\n"
     ]
    }
   ],
   "source": [
    "import pandas as pd\n",
    "import sys\n",
    "sys.path.append('/home/localssk23/splits_mnist/')\n",
    "from config import CONFIG\n",
    "\n",
    "class_results = pd.read_csv(CONFIG['result_path'] + 'class_results.csv')\n",
    "overall_results = pd.read_csv(CONFIG['result_path'] + 'overall_results.csv')\n",
    "class_results_corrupted = pd.read_csv(CONFIG['result_path'] + 'class_results_corrupted.csv')\n",
    "overall_results_corrupted = pd.read_csv(CONFIG['result_path'] + 'overall_results_corrupted.csv')\n",
    "\n",
    "# Add the last column from class_results_corrupted to class_results\n",
    "class_results = pd.concat([class_results, class_results_corrupted.iloc[:, -1]], axis=1)\n",
    "overall_results = pd.concat([overall_results, overall_results_corrupted.iloc[:, -2]], axis=1)\n",
    "overall_results = pd.concat([overall_results, overall_results_corrupted.iloc[:, -1]], axis=1)\n",
    "\n",
    "# Swap the position of column 4 and 5 in overall_results\n",
    "cols = overall_results.columns.tolist()\n",
    "cols[3], cols[4] = cols[4], cols[3]\n",
    "overall_results = overall_results[cols]\n",
    "\n",
    "# Convert dataframes to strings\n",
    "class_results = class_results.to_string()\n",
    "overall_results = overall_results.to_string()\n",
    "\n",
    "print(class_results)\n",
    "print()\n",
    "print(overall_results)"
   ]
  },
  {
   "cell_type": "code",
   "execution_count": 7,
   "metadata": {},
   "outputs": [
    {
     "name": "stdout",
     "output_type": "stream",
     "text": [
      "Downloading https://zenodo.org/records/10519652/files/pathmnist_224.npz?download=1 to /home/localssk23/.medmnist/pathmnist_224.npz\n"
     ]
    },
    {
     "name": "stderr",
     "output_type": "stream",
     "text": [
      "  2%|▏         | 235077632/12629854322 [00:23<21:00, 9836937.77it/s] \n"
     ]
    },
    {
     "ename": "RuntimeError",
     "evalue": "\n                Automatic download failed! Please download pathmnist_224.npz manually.\n                1. [Optional] Check your network connection: \n                    Go to https://github.com/MedMNIST/MedMNIST/ and find the Zenodo repository\n                2. Download the npz file from the Zenodo repository or its Zenodo data link: \n                    https://zenodo.org/records/10519652/files/pathmnist_224.npz?download=1\n                3. [Optional] Verify the MD5: \n                    2c51a510bcdc9cf8ddb2af93af1eadec\n                4. Put the npz file under your MedMNIST root folder: \n                    /home/localssk23/.medmnist\n                ",
     "output_type": "error",
     "traceback": [
      "\u001b[0;31m---------------------------------------------------------------------------\u001b[0m",
      "\u001b[0;31mKeyboardInterrupt\u001b[0m                         Traceback (most recent call last)",
      "File \u001b[0;32m~/miniconda3/envs/cucim/lib/python3.8/site-packages/medmnist/dataset.py:106\u001b[0m, in \u001b[0;36mMedMNIST.download\u001b[0;34m(self)\u001b[0m\n\u001b[1;32m    104\u001b[0m     \u001b[38;5;28;01mfrom\u001b[39;00m \u001b[38;5;21;01mtorchvision\u001b[39;00m\u001b[38;5;21;01m.\u001b[39;00m\u001b[38;5;21;01mdatasets\u001b[39;00m\u001b[38;5;21;01m.\u001b[39;00m\u001b[38;5;21;01mutils\u001b[39;00m \u001b[38;5;28;01mimport\u001b[39;00m download_url\n\u001b[0;32m--> 106\u001b[0m     \u001b[43mdownload_url\u001b[49m\u001b[43m(\u001b[49m\n\u001b[1;32m    107\u001b[0m \u001b[43m        \u001b[49m\u001b[43murl\u001b[49m\u001b[38;5;241;43m=\u001b[39;49m\u001b[38;5;28;43mself\u001b[39;49m\u001b[38;5;241;43m.\u001b[39;49m\u001b[43minfo\u001b[49m\u001b[43m[\u001b[49m\u001b[38;5;124;43mf\u001b[39;49m\u001b[38;5;124;43m\"\u001b[39;49m\u001b[38;5;124;43murl\u001b[39;49m\u001b[38;5;132;43;01m{\u001b[39;49;00m\u001b[38;5;28;43mself\u001b[39;49m\u001b[38;5;241;43m.\u001b[39;49m\u001b[43msize_flag\u001b[49m\u001b[38;5;132;43;01m}\u001b[39;49;00m\u001b[38;5;124;43m\"\u001b[39;49m\u001b[43m]\u001b[49m\u001b[43m,\u001b[49m\n\u001b[1;32m    108\u001b[0m \u001b[43m        \u001b[49m\u001b[43mroot\u001b[49m\u001b[38;5;241;43m=\u001b[39;49m\u001b[38;5;28;43mself\u001b[39;49m\u001b[38;5;241;43m.\u001b[39;49m\u001b[43mroot\u001b[49m\u001b[43m,\u001b[49m\n\u001b[1;32m    109\u001b[0m \u001b[43m        \u001b[49m\u001b[43mfilename\u001b[49m\u001b[38;5;241;43m=\u001b[39;49m\u001b[38;5;124;43mf\u001b[39;49m\u001b[38;5;124;43m\"\u001b[39;49m\u001b[38;5;132;43;01m{\u001b[39;49;00m\u001b[38;5;28;43mself\u001b[39;49m\u001b[38;5;241;43m.\u001b[39;49m\u001b[43mflag\u001b[49m\u001b[38;5;132;43;01m}\u001b[39;49;00m\u001b[38;5;132;43;01m{\u001b[39;49;00m\u001b[38;5;28;43mself\u001b[39;49m\u001b[38;5;241;43m.\u001b[39;49m\u001b[43msize_flag\u001b[49m\u001b[38;5;132;43;01m}\u001b[39;49;00m\u001b[38;5;124;43m.npz\u001b[39;49m\u001b[38;5;124;43m\"\u001b[39;49m\u001b[43m,\u001b[49m\n\u001b[1;32m    110\u001b[0m \u001b[43m        \u001b[49m\u001b[43mmd5\u001b[49m\u001b[38;5;241;43m=\u001b[39;49m\u001b[38;5;28;43mself\u001b[39;49m\u001b[38;5;241;43m.\u001b[39;49m\u001b[43minfo\u001b[49m\u001b[43m[\u001b[49m\u001b[38;5;124;43mf\u001b[39;49m\u001b[38;5;124;43m\"\u001b[39;49m\u001b[38;5;124;43mMD5\u001b[39;49m\u001b[38;5;132;43;01m{\u001b[39;49;00m\u001b[38;5;28;43mself\u001b[39;49m\u001b[38;5;241;43m.\u001b[39;49m\u001b[43msize_flag\u001b[49m\u001b[38;5;132;43;01m}\u001b[39;49;00m\u001b[38;5;124;43m\"\u001b[39;49m\u001b[43m]\u001b[49m\u001b[43m,\u001b[49m\n\u001b[1;32m    111\u001b[0m \u001b[43m    \u001b[49m\u001b[43m)\u001b[49m\n\u001b[1;32m    112\u001b[0m \u001b[38;5;28;01mexcept\u001b[39;00m:\n",
      "File \u001b[0;32m~/miniconda3/envs/cucim/lib/python3.8/site-packages/torchvision/datasets/utils.py:132\u001b[0m, in \u001b[0;36mdownload_url\u001b[0;34m(url, root, filename, md5, max_redirect_hops)\u001b[0m\n\u001b[1;32m    131\u001b[0m     \u001b[38;5;28mprint\u001b[39m(\u001b[38;5;124m\"\u001b[39m\u001b[38;5;124mDownloading \u001b[39m\u001b[38;5;124m\"\u001b[39m \u001b[38;5;241m+\u001b[39m url \u001b[38;5;241m+\u001b[39m \u001b[38;5;124m\"\u001b[39m\u001b[38;5;124m to \u001b[39m\u001b[38;5;124m\"\u001b[39m \u001b[38;5;241m+\u001b[39m fpath)\n\u001b[0;32m--> 132\u001b[0m     \u001b[43m_urlretrieve\u001b[49m\u001b[43m(\u001b[49m\u001b[43murl\u001b[49m\u001b[43m,\u001b[49m\u001b[43m \u001b[49m\u001b[43mfpath\u001b[49m\u001b[43m)\u001b[49m\n\u001b[1;32m    133\u001b[0m \u001b[38;5;28;01mexcept\u001b[39;00m (urllib\u001b[38;5;241m.\u001b[39merror\u001b[38;5;241m.\u001b[39mURLError, \u001b[38;5;167;01mOSError\u001b[39;00m) \u001b[38;5;28;01mas\u001b[39;00m e:  \u001b[38;5;66;03m# type: ignore[attr-defined]\u001b[39;00m\n",
      "File \u001b[0;32m~/miniconda3/envs/cucim/lib/python3.8/site-packages/torchvision/datasets/utils.py:30\u001b[0m, in \u001b[0;36m_urlretrieve\u001b[0;34m(url, filename, chunk_size)\u001b[0m\n\u001b[1;32m     29\u001b[0m \u001b[38;5;28;01mwith\u001b[39;00m \u001b[38;5;28mopen\u001b[39m(filename, \u001b[38;5;124m\"\u001b[39m\u001b[38;5;124mwb\u001b[39m\u001b[38;5;124m\"\u001b[39m) \u001b[38;5;28;01mas\u001b[39;00m fh, tqdm(total\u001b[38;5;241m=\u001b[39mresponse\u001b[38;5;241m.\u001b[39mlength) \u001b[38;5;28;01mas\u001b[39;00m pbar:\n\u001b[0;32m---> 30\u001b[0m     \u001b[38;5;28;01mwhile\u001b[39;00m chunk \u001b[38;5;241m:=\u001b[39m \u001b[43mresponse\u001b[49m\u001b[38;5;241;43m.\u001b[39;49m\u001b[43mread\u001b[49m\u001b[43m(\u001b[49m\u001b[43mchunk_size\u001b[49m\u001b[43m)\u001b[49m:\n\u001b[1;32m     31\u001b[0m         fh\u001b[38;5;241m.\u001b[39mwrite(chunk)\n",
      "File \u001b[0;32m~/miniconda3/envs/cucim/lib/python3.8/http/client.py:459\u001b[0m, in \u001b[0;36mHTTPResponse.read\u001b[0;34m(self, amt)\u001b[0m\n\u001b[1;32m    458\u001b[0m b \u001b[38;5;241m=\u001b[39m \u001b[38;5;28mbytearray\u001b[39m(amt)\n\u001b[0;32m--> 459\u001b[0m n \u001b[38;5;241m=\u001b[39m \u001b[38;5;28;43mself\u001b[39;49m\u001b[38;5;241;43m.\u001b[39;49m\u001b[43mreadinto\u001b[49m\u001b[43m(\u001b[49m\u001b[43mb\u001b[49m\u001b[43m)\u001b[49m\n\u001b[1;32m    460\u001b[0m \u001b[38;5;28;01mreturn\u001b[39;00m \u001b[38;5;28mmemoryview\u001b[39m(b)[:n]\u001b[38;5;241m.\u001b[39mtobytes()\n",
      "File \u001b[0;32m~/miniconda3/envs/cucim/lib/python3.8/http/client.py:503\u001b[0m, in \u001b[0;36mHTTPResponse.readinto\u001b[0;34m(self, b)\u001b[0m\n\u001b[1;32m    500\u001b[0m \u001b[38;5;66;03m# we do not use _safe_read() here because this may be a .will_close\u001b[39;00m\n\u001b[1;32m    501\u001b[0m \u001b[38;5;66;03m# connection, and the user is reading more bytes than will be provided\u001b[39;00m\n\u001b[1;32m    502\u001b[0m \u001b[38;5;66;03m# (for example, reading in 1k chunks)\u001b[39;00m\n\u001b[0;32m--> 503\u001b[0m n \u001b[38;5;241m=\u001b[39m \u001b[38;5;28;43mself\u001b[39;49m\u001b[38;5;241;43m.\u001b[39;49m\u001b[43mfp\u001b[49m\u001b[38;5;241;43m.\u001b[39;49m\u001b[43mreadinto\u001b[49m\u001b[43m(\u001b[49m\u001b[43mb\u001b[49m\u001b[43m)\u001b[49m\n\u001b[1;32m    504\u001b[0m \u001b[38;5;28;01mif\u001b[39;00m \u001b[38;5;129;01mnot\u001b[39;00m n \u001b[38;5;129;01mand\u001b[39;00m b:\n\u001b[1;32m    505\u001b[0m     \u001b[38;5;66;03m# Ideally, we would raise IncompleteRead if the content-length\u001b[39;00m\n\u001b[1;32m    506\u001b[0m     \u001b[38;5;66;03m# wasn't satisfied, but it might break compatibility.\u001b[39;00m\n",
      "File \u001b[0;32m~/miniconda3/envs/cucim/lib/python3.8/socket.py:669\u001b[0m, in \u001b[0;36mSocketIO.readinto\u001b[0;34m(self, b)\u001b[0m\n\u001b[1;32m    668\u001b[0m \u001b[38;5;28;01mtry\u001b[39;00m:\n\u001b[0;32m--> 669\u001b[0m     \u001b[38;5;28;01mreturn\u001b[39;00m \u001b[38;5;28;43mself\u001b[39;49m\u001b[38;5;241;43m.\u001b[39;49m\u001b[43m_sock\u001b[49m\u001b[38;5;241;43m.\u001b[39;49m\u001b[43mrecv_into\u001b[49m\u001b[43m(\u001b[49m\u001b[43mb\u001b[49m\u001b[43m)\u001b[49m\n\u001b[1;32m    670\u001b[0m \u001b[38;5;28;01mexcept\u001b[39;00m timeout:\n",
      "File \u001b[0;32m~/miniconda3/envs/cucim/lib/python3.8/ssl.py:1274\u001b[0m, in \u001b[0;36mSSLSocket.recv_into\u001b[0;34m(self, buffer, nbytes, flags)\u001b[0m\n\u001b[1;32m   1271\u001b[0m         \u001b[38;5;28;01mraise\u001b[39;00m \u001b[38;5;167;01mValueError\u001b[39;00m(\n\u001b[1;32m   1272\u001b[0m           \u001b[38;5;124m\"\u001b[39m\u001b[38;5;124mnon-zero flags not allowed in calls to recv_into() on \u001b[39m\u001b[38;5;132;01m%s\u001b[39;00m\u001b[38;5;124m\"\u001b[39m \u001b[38;5;241m%\u001b[39m\n\u001b[1;32m   1273\u001b[0m           \u001b[38;5;28mself\u001b[39m\u001b[38;5;241m.\u001b[39m\u001b[38;5;18m__class__\u001b[39m)\n\u001b[0;32m-> 1274\u001b[0m     \u001b[38;5;28;01mreturn\u001b[39;00m \u001b[38;5;28;43mself\u001b[39;49m\u001b[38;5;241;43m.\u001b[39;49m\u001b[43mread\u001b[49m\u001b[43m(\u001b[49m\u001b[43mnbytes\u001b[49m\u001b[43m,\u001b[49m\u001b[43m \u001b[49m\u001b[43mbuffer\u001b[49m\u001b[43m)\u001b[49m\n\u001b[1;32m   1275\u001b[0m \u001b[38;5;28;01melse\u001b[39;00m:\n",
      "File \u001b[0;32m~/miniconda3/envs/cucim/lib/python3.8/ssl.py:1132\u001b[0m, in \u001b[0;36mSSLSocket.read\u001b[0;34m(self, len, buffer)\u001b[0m\n\u001b[1;32m   1131\u001b[0m \u001b[38;5;28;01mif\u001b[39;00m buffer \u001b[38;5;129;01mis\u001b[39;00m \u001b[38;5;129;01mnot\u001b[39;00m \u001b[38;5;28;01mNone\u001b[39;00m:\n\u001b[0;32m-> 1132\u001b[0m     \u001b[38;5;28;01mreturn\u001b[39;00m \u001b[38;5;28;43mself\u001b[39;49m\u001b[38;5;241;43m.\u001b[39;49m\u001b[43m_sslobj\u001b[49m\u001b[38;5;241;43m.\u001b[39;49m\u001b[43mread\u001b[49m\u001b[43m(\u001b[49m\u001b[38;5;28;43mlen\u001b[39;49m\u001b[43m,\u001b[49m\u001b[43m \u001b[49m\u001b[43mbuffer\u001b[49m\u001b[43m)\u001b[49m\n\u001b[1;32m   1133\u001b[0m \u001b[38;5;28;01melse\u001b[39;00m:\n",
      "\u001b[0;31mKeyboardInterrupt\u001b[0m: ",
      "\nDuring handling of the above exception, another exception occurred:\n",
      "\u001b[0;31mRuntimeError\u001b[0m                              Traceback (most recent call last)",
      "Cell \u001b[0;32mIn[7], line 25\u001b[0m\n\u001b[1;32m     22\u001b[0m DataClass \u001b[38;5;241m=\u001b[39m \u001b[38;5;28mgetattr\u001b[39m(medmnist, info[\u001b[38;5;124m'\u001b[39m\u001b[38;5;124mpython_class\u001b[39m\u001b[38;5;124m'\u001b[39m])\n\u001b[1;32m     24\u001b[0m \u001b[38;5;66;03m# load the data\u001b[39;00m\n\u001b[0;32m---> 25\u001b[0m train_dataset \u001b[38;5;241m=\u001b[39m \u001b[43mDataClass\u001b[49m\u001b[43m(\u001b[49m\u001b[43msplit\u001b[49m\u001b[38;5;241;43m=\u001b[39;49m\u001b[38;5;124;43m'\u001b[39;49m\u001b[38;5;124;43mtrain\u001b[39;49m\u001b[38;5;124;43m'\u001b[39;49m\u001b[43m,\u001b[49m\u001b[43m \u001b[49m\u001b[43mdownload\u001b[49m\u001b[38;5;241;43m=\u001b[39;49m\u001b[43mdownload\u001b[49m\u001b[43m,\u001b[49m\u001b[43m \u001b[49m\u001b[43msize\u001b[49m\u001b[38;5;241;43m=\u001b[39;49m\u001b[38;5;241;43m224\u001b[39;49m\u001b[43m,\u001b[49m\u001b[43m \u001b[49m\u001b[43mmmap_mode\u001b[49m\u001b[38;5;241;43m=\u001b[39;49m\u001b[38;5;124;43m'\u001b[39;49m\u001b[38;5;124;43mr\u001b[39;49m\u001b[38;5;124;43m'\u001b[39;49m\u001b[43m)\u001b[49m\n\u001b[1;32m     27\u001b[0m \u001b[38;5;66;03m# encapsulate data into dataloader form\u001b[39;00m\n",
      "File \u001b[0;32m~/miniconda3/envs/cucim/lib/python3.8/site-packages/medmnist/dataset.py:56\u001b[0m, in \u001b[0;36mMedMNIST.__init__\u001b[0;34m(self, split, transform, target_transform, download, as_rgb, root, size, mmap_mode)\u001b[0m\n\u001b[1;32m     50\u001b[0m     \u001b[38;5;28;01mraise\u001b[39;00m \u001b[38;5;167;01mRuntimeError\u001b[39;00m(\n\u001b[1;32m     51\u001b[0m         \u001b[38;5;124m\"\u001b[39m\u001b[38;5;124mFailed to setup the default `root` directory. \u001b[39m\u001b[38;5;124m\"\u001b[39m\n\u001b[1;32m     52\u001b[0m         \u001b[38;5;241m+\u001b[39m \u001b[38;5;124m\"\u001b[39m\u001b[38;5;124mPlease specify and create the `root` directory manually.\u001b[39m\u001b[38;5;124m\"\u001b[39m\n\u001b[1;32m     53\u001b[0m     )\n\u001b[1;32m     55\u001b[0m \u001b[38;5;28;01mif\u001b[39;00m download:\n\u001b[0;32m---> 56\u001b[0m     \u001b[38;5;28;43mself\u001b[39;49m\u001b[38;5;241;43m.\u001b[39;49m\u001b[43mdownload\u001b[49m\u001b[43m(\u001b[49m\u001b[43m)\u001b[49m\n\u001b[1;32m     58\u001b[0m \u001b[38;5;28;01mif\u001b[39;00m \u001b[38;5;129;01mnot\u001b[39;00m os\u001b[38;5;241m.\u001b[39mpath\u001b[38;5;241m.\u001b[39mexists(\n\u001b[1;32m     59\u001b[0m     os\u001b[38;5;241m.\u001b[39mpath\u001b[38;5;241m.\u001b[39mjoin(\u001b[38;5;28mself\u001b[39m\u001b[38;5;241m.\u001b[39mroot, \u001b[38;5;124mf\u001b[39m\u001b[38;5;124m\"\u001b[39m\u001b[38;5;132;01m{\u001b[39;00m\u001b[38;5;28mself\u001b[39m\u001b[38;5;241m.\u001b[39mflag\u001b[38;5;132;01m}\u001b[39;00m\u001b[38;5;132;01m{\u001b[39;00m\u001b[38;5;28mself\u001b[39m\u001b[38;5;241m.\u001b[39msize_flag\u001b[38;5;132;01m}\u001b[39;00m\u001b[38;5;124m.npz\u001b[39m\u001b[38;5;124m\"\u001b[39m)\n\u001b[1;32m     60\u001b[0m ):\n\u001b[1;32m     61\u001b[0m     \u001b[38;5;28;01mraise\u001b[39;00m \u001b[38;5;167;01mRuntimeError\u001b[39;00m(\n\u001b[1;32m     62\u001b[0m         \u001b[38;5;124m\"\u001b[39m\u001b[38;5;124mDataset not found. \u001b[39m\u001b[38;5;124m\"\u001b[39m \u001b[38;5;241m+\u001b[39m \u001b[38;5;124m\"\u001b[39m\u001b[38;5;124m You can set `download=True` to download it\u001b[39m\u001b[38;5;124m\"\u001b[39m\n\u001b[1;32m     63\u001b[0m     )\n",
      "File \u001b[0;32m~/miniconda3/envs/cucim/lib/python3.8/site-packages/medmnist/dataset.py:113\u001b[0m, in \u001b[0;36mMedMNIST.download\u001b[0;34m(self)\u001b[0m\n\u001b[1;32m    106\u001b[0m     download_url(\n\u001b[1;32m    107\u001b[0m         url\u001b[38;5;241m=\u001b[39m\u001b[38;5;28mself\u001b[39m\u001b[38;5;241m.\u001b[39minfo[\u001b[38;5;124mf\u001b[39m\u001b[38;5;124m\"\u001b[39m\u001b[38;5;124murl\u001b[39m\u001b[38;5;132;01m{\u001b[39;00m\u001b[38;5;28mself\u001b[39m\u001b[38;5;241m.\u001b[39msize_flag\u001b[38;5;132;01m}\u001b[39;00m\u001b[38;5;124m\"\u001b[39m],\n\u001b[1;32m    108\u001b[0m         root\u001b[38;5;241m=\u001b[39m\u001b[38;5;28mself\u001b[39m\u001b[38;5;241m.\u001b[39mroot,\n\u001b[1;32m    109\u001b[0m         filename\u001b[38;5;241m=\u001b[39m\u001b[38;5;124mf\u001b[39m\u001b[38;5;124m\"\u001b[39m\u001b[38;5;132;01m{\u001b[39;00m\u001b[38;5;28mself\u001b[39m\u001b[38;5;241m.\u001b[39mflag\u001b[38;5;132;01m}\u001b[39;00m\u001b[38;5;132;01m{\u001b[39;00m\u001b[38;5;28mself\u001b[39m\u001b[38;5;241m.\u001b[39msize_flag\u001b[38;5;132;01m}\u001b[39;00m\u001b[38;5;124m.npz\u001b[39m\u001b[38;5;124m\"\u001b[39m,\n\u001b[1;32m    110\u001b[0m         md5\u001b[38;5;241m=\u001b[39m\u001b[38;5;28mself\u001b[39m\u001b[38;5;241m.\u001b[39minfo[\u001b[38;5;124mf\u001b[39m\u001b[38;5;124m\"\u001b[39m\u001b[38;5;124mMD5\u001b[39m\u001b[38;5;132;01m{\u001b[39;00m\u001b[38;5;28mself\u001b[39m\u001b[38;5;241m.\u001b[39msize_flag\u001b[38;5;132;01m}\u001b[39;00m\u001b[38;5;124m\"\u001b[39m],\n\u001b[1;32m    111\u001b[0m     )\n\u001b[1;32m    112\u001b[0m \u001b[38;5;28;01mexcept\u001b[39;00m:\n\u001b[0;32m--> 113\u001b[0m     \u001b[38;5;28;01mraise\u001b[39;00m \u001b[38;5;167;01mRuntimeError\u001b[39;00m(\n\u001b[1;32m    114\u001b[0m         \u001b[38;5;124mf\u001b[39m\u001b[38;5;124m\"\"\"\u001b[39m\n\u001b[1;32m    115\u001b[0m \u001b[38;5;124m        Automatic download failed! Please download \u001b[39m\u001b[38;5;132;01m{\u001b[39;00m\u001b[38;5;28mself\u001b[39m\u001b[38;5;241m.\u001b[39mflag\u001b[38;5;132;01m}\u001b[39;00m\u001b[38;5;132;01m{\u001b[39;00m\u001b[38;5;28mself\u001b[39m\u001b[38;5;241m.\u001b[39msize_flag\u001b[38;5;132;01m}\u001b[39;00m\u001b[38;5;124m.npz manually.\u001b[39m\n\u001b[1;32m    116\u001b[0m \u001b[38;5;124m        1. [Optional] Check your network connection: \u001b[39m\n\u001b[1;32m    117\u001b[0m \u001b[38;5;124m            Go to \u001b[39m\u001b[38;5;132;01m{\u001b[39;00mHOMEPAGE\u001b[38;5;132;01m}\u001b[39;00m\u001b[38;5;124m and find the Zenodo repository\u001b[39m\n\u001b[1;32m    118\u001b[0m \u001b[38;5;124m        2. Download the npz file from the Zenodo repository or its Zenodo data link: \u001b[39m\n\u001b[1;32m    119\u001b[0m \u001b[38;5;124m            \u001b[39m\u001b[38;5;132;01m{\u001b[39;00m\u001b[38;5;28mself\u001b[39m\u001b[38;5;241m.\u001b[39minfo[\u001b[38;5;124mf\u001b[39m\u001b[38;5;124m\"\u001b[39m\u001b[38;5;124murl\u001b[39m\u001b[38;5;132;01m{\u001b[39;00m\u001b[38;5;28mself\u001b[39m\u001b[38;5;241m.\u001b[39msize_flag\u001b[38;5;132;01m}\u001b[39;00m\u001b[38;5;124m\"\u001b[39m]\u001b[38;5;132;01m}\u001b[39;00m\n\u001b[1;32m    120\u001b[0m \u001b[38;5;124m        3. [Optional] Verify the MD5: \u001b[39m\n\u001b[1;32m    121\u001b[0m \u001b[38;5;124m            \u001b[39m\u001b[38;5;132;01m{\u001b[39;00m\u001b[38;5;28mself\u001b[39m\u001b[38;5;241m.\u001b[39minfo[\u001b[38;5;124mf\u001b[39m\u001b[38;5;124m\"\u001b[39m\u001b[38;5;124mMD5\u001b[39m\u001b[38;5;132;01m{\u001b[39;00m\u001b[38;5;28mself\u001b[39m\u001b[38;5;241m.\u001b[39msize_flag\u001b[38;5;132;01m}\u001b[39;00m\u001b[38;5;124m\"\u001b[39m]\u001b[38;5;132;01m}\u001b[39;00m\n\u001b[1;32m    122\u001b[0m \u001b[38;5;124m        4. Put the npz file under your MedMNIST root folder: \u001b[39m\n\u001b[1;32m    123\u001b[0m \u001b[38;5;124m            \u001b[39m\u001b[38;5;132;01m{\u001b[39;00m\u001b[38;5;28mself\u001b[39m\u001b[38;5;241m.\u001b[39mroot\u001b[38;5;132;01m}\u001b[39;00m\n\u001b[1;32m    124\u001b[0m \u001b[38;5;124m        \u001b[39m\u001b[38;5;124m\"\"\"\u001b[39m\n\u001b[1;32m    125\u001b[0m     )\n",
      "\u001b[0;31mRuntimeError\u001b[0m: \n                Automatic download failed! Please download pathmnist_224.npz manually.\n                1. [Optional] Check your network connection: \n                    Go to https://github.com/MedMNIST/MedMNIST/ and find the Zenodo repository\n                2. Download the npz file from the Zenodo repository or its Zenodo data link: \n                    https://zenodo.org/records/10519652/files/pathmnist_224.npz?download=1\n                3. [Optional] Verify the MD5: \n                    2c51a510bcdc9cf8ddb2af93af1eadec\n                4. Put the npz file under your MedMNIST root folder: \n                    /home/localssk23/.medmnist\n                "
     ]
    }
   ],
   "source": [
    "# import medmnist\n",
    "# from medmnist import INFO, Evaluator\n",
    "\n",
    "# data_flag = 'retinamnist'\n",
    "# download = True\n",
    "\n",
    "# NUM_EPOCHS = 3\n",
    "# BATCH_SIZE = 128\n",
    "# lr = 0.001\n",
    "\n",
    "# info = INFO[data_flag]\n",
    "# task = info['task']\n",
    "# n_channels = info['n_channels']\n",
    "# n_classes = len(info['label'])\n",
    "\n",
    "# DataClass = getattr(medmnist, info['python_class'])\n",
    "\n",
    "# data_flag = 'pathmnist'\n",
    "# download = True\n",
    "\n",
    "# info = INFO[data_flag]\n",
    "# DataClass = getattr(medmnist, info['python_class'])\n",
    "\n",
    "# # load the data\n",
    "# train_dataset = DataClass(split='train', download=download, size=224, mmap_mode='r')\n",
    "\n",
    "# # encapsulate data into dataloader form\n"
   ]
  },
  {
   "cell_type": "code",
   "execution_count": 1,
   "metadata": {},
   "outputs": [
    {
     "name": "stdout",
     "output_type": "stream",
     "text": [
      "        Dataset      Loader  Class   Accuracy\n",
      "0   organcmnist        Full      0  89.393939\n",
      "1   organcmnist        Full      1  99.142857\n",
      "2   organcmnist        Full      2  82.222222\n",
      "3   organcmnist        Full      3   0.000000\n",
      "4   organcmnist        Full      4  20.000000\n",
      "5   organcmnist        Full      5  60.000000\n",
      "6   organcmnist        Full      6   0.000000\n",
      "7   organcmnist        Full      7  37.500000\n",
      "8   organcmnist        Full      8  94.594595\n",
      "9   organcmnist  LargeSplit      0  93.181818\n",
      "10  organcmnist  LargeSplit      1  98.857143\n",
      "11  organcmnist  LargeSplit      2  84.444444\n",
      "12  organcmnist  LargeSplit      3  22.222222\n",
      "13  organcmnist  LargeSplit      4  40.000000\n",
      "14  organcmnist  LargeSplit      5  20.000000\n",
      "15  organcmnist  LargeSplit      6   0.000000\n",
      "16  organcmnist  LargeSplit      7  56.250000\n",
      "17  organcmnist  LargeSplit      8  97.297297\n",
      "18  organcmnist  SmallSplit      0  88.636364\n",
      "19  organcmnist  SmallSplit      1  97.142857\n",
      "20  organcmnist  SmallSplit      2  71.111111\n",
      "21  organcmnist  SmallSplit      3  22.222222\n",
      "22  organcmnist  SmallSplit      4  13.333333\n",
      "23  organcmnist  SmallSplit      5  72.000000\n",
      "24  organcmnist  SmallSplit      6   0.000000\n",
      "25  organcmnist  SmallSplit      7  43.750000\n",
      "26  organcmnist  SmallSplit      8  86.486486\n",
      "\n",
      "       Dataset      Loader  Overall Accuracy  Overall AUC\n",
      "0  organcmnist        Full         88.485804     0.978016\n",
      "1  organcmnist  LargeSplit         89.116719     0.975855\n",
      "2  organcmnist  SmallSplit         86.750789     0.974138\n"
     ]
    }
   ],
   "source": [
    "import pandas as pd\n",
    "import sys\n",
    "sys.path.append('/home/localssk23/splits_mnist/')\n",
    "from config import CONFIG\n",
    "\n",
    "class_results = pd.read_csv(CONFIG['result_path'] + 'class_results.csv')\n",
    "overall_results = pd.read_csv(CONFIG['result_path'] + 'overall_results.csv')\n",
    "\n",
    "# Convert dataframes to strings\n",
    "class_results = class_results.to_string()\n",
    "overall_results = overall_results.to_string()\n",
    "\n",
    "print(class_results)\n",
    "print()\n",
    "print(overall_results)"
   ]
  },
  {
   "cell_type": "code",
   "execution_count": 2,
   "metadata": {},
   "outputs": [
    {
     "name": "stdout",
     "output_type": "stream",
     "text": [
      "        Dataset      Loader  Class   Accuracy\n",
      "0   organcmnist        Full      0  89.393939\n",
      "1   organcmnist        Full      1  99.142857\n",
      "2   organcmnist        Full      2  82.222222\n",
      "3   organcmnist        Full      3   0.000000\n",
      "4   organcmnist        Full      4  20.000000\n",
      "5   organcmnist        Full      5  60.000000\n",
      "6   organcmnist        Full      6   0.000000\n",
      "7   organcmnist        Full      7  37.500000\n",
      "8   organcmnist        Full      8  94.594595\n",
      "9   organcmnist  LargeSplit      0  93.181818\n",
      "10  organcmnist  LargeSplit      1  98.857143\n",
      "11  organcmnist  LargeSplit      2  84.444444\n",
      "12  organcmnist  LargeSplit      3  22.222222\n",
      "13  organcmnist  LargeSplit      4  40.000000\n",
      "14  organcmnist  LargeSplit      5  20.000000\n",
      "15  organcmnist  LargeSplit      6   0.000000\n",
      "16  organcmnist  LargeSplit      7  56.250000\n",
      "17  organcmnist  LargeSplit      8  97.297297\n",
      "18  organcmnist  SmallSplit      0  88.636364\n",
      "19  organcmnist  SmallSplit      1  97.142857\n",
      "20  organcmnist  SmallSplit      2  71.111111\n",
      "21  organcmnist  SmallSplit      3  22.222222\n",
      "22  organcmnist  SmallSplit      4  13.333333\n",
      "23  organcmnist  SmallSplit      5  72.000000\n",
      "24  organcmnist  SmallSplit      6   0.000000\n",
      "25  organcmnist  SmallSplit      7  43.750000\n",
      "26  organcmnist  SmallSplit      8  86.486486\n",
      "\n",
      "       Dataset      Loader  Overall Accuracy  Overall AUC  Balanced Accuracy\n",
      "0  organcmnist        Full         88.485804     0.978016          53.650401\n",
      "1  organcmnist  LargeSplit         89.116719     0.975855          56.916992\n",
      "2  organcmnist  SmallSplit         86.750789     0.974138          54.964708\n"
     ]
    }
   ],
   "source": [
    "import pandas as pd\n",
    "import numpy as np\n",
    "import sys\n",
    "sys.path.append('/home/localssk23/splits_mnist/')\n",
    "from config import CONFIG\n",
    "\n",
    "class_results = pd.read_csv(CONFIG['result_path'] + 'class_results.csv')\n",
    "overall_results = pd.read_csv(CONFIG['result_path'] + 'overall_results.csv')\n",
    "\n",
    "# Calculate balanced accuracy for each loader\n",
    "balanced_accuracies = []\n",
    "for loader in class_results['Loader'].unique():\n",
    "    loader_results = class_results[class_results['Loader'] == loader]\n",
    "    balanced_acc = np.mean(loader_results['Accuracy'])\n",
    "    balanced_accuracies.append(balanced_acc)\n",
    "\n",
    "# Add balanced accuracy to overall_results\n",
    "overall_results['Balanced Accuracy'] = balanced_accuracies\n",
    "\n",
    "# Convert dataframes to strings\n",
    "class_results = class_results.to_string()\n",
    "overall_results = overall_results.to_string()\n",
    "\n",
    "print(class_results)\n",
    "print()\n",
    "print(overall_results)"
   ]
  },
  {
   "cell_type": "code",
   "execution_count": null,
   "metadata": {},
   "outputs": [],
   "source": []
  }
 ],
 "metadata": {
  "kernelspec": {
   "display_name": "cucim",
   "language": "python",
   "name": "python3"
  },
  "language_info": {
   "codemirror_mode": {
    "name": "ipython",
    "version": 3
   },
   "file_extension": ".py",
   "mimetype": "text/x-python",
   "name": "python",
   "nbconvert_exporter": "python",
   "pygments_lexer": "ipython3",
   "version": "3.8.19"
  }
 },
 "nbformat": 4,
 "nbformat_minor": 2
}
