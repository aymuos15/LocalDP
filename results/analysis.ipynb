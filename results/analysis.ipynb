{
 "cells": [
  {
   "cell_type": "code",
   "execution_count": 1,
   "metadata": {},
   "outputs": [],
   "source": [
    "import pandas as pd\n",
    "import sys\n",
    "sys.path.append('/home/localssk23/localdp/')\n",
    "from config import CONFIG"
   ]
  },
  {
   "cell_type": "code",
   "execution_count": 2,
   "metadata": {},
   "outputs": [],
   "source": [
    "result_path = CONFIG['result_path']\n",
    "dataset_name = CONFIG['data_path'].split('/')[-1].split('.')[0]"
   ]
  },
  {
   "cell_type": "markdown",
   "metadata": {},
   "source": [
    "# Overall Score"
   ]
  },
  {
   "cell_type": "code",
   "execution_count": 3,
   "metadata": {},
   "outputs": [
    {
     "name": "stdout",
     "output_type": "stream",
     "text": [
      "Noise Level  AUC Score  Accuracy\n",
      "   Original   0.820922 66.197183\n",
      "     1pixel   0.864362 66.197183\n",
      "          1   0.797872 66.197183\n",
      "          5   0.874113 66.197183\n",
      "         10   0.812057 66.197183\n",
      "         25   0.710993 66.197183\n",
      "         50   0.856383 66.197183\n",
      "         75   0.851064 66.197183\n",
      "         90   0.770390 66.197183\n",
      "         99   0.749113 66.197183\n"
     ]
    }
   ],
   "source": [
    "overall_table = pd.read_csv(result_path + dataset_name + '_' + 'overall_results.csv')\n",
    "\n",
    "# Correct column names for AUC and Accuracy\n",
    "auc_columns = ['Overall_AUC_original', 'Overall_AUC_noisy_1pixel'] + [f'Overall_AUC_noisy_{i}%' for i in [1, 5, 10, 25, 50, 75, 90, 99]]\n",
    "acc_columns = ['Overall_Accuracy_original', 'Overall_Accuracy_noisy_1pixel'] + [f'Overall_Accuracy_noisy_{i}%' for i in [1, 5, 10, 25, 50, 75, 90, 99]]\n",
    "\n",
    "# Create separate tables\n",
    "auc_table = pd.DataFrame({\n",
    "    'Noise Level': ['Original', '1pixel', '1', '5', '10', '25', '50', '75', '90', '99'],\n",
    "    'AUC Score': [overall_table[col].values[0] for col in auc_columns]\n",
    "})\n",
    "\n",
    "acc_table = pd.DataFrame({\n",
    "    'Noise Level': ['Original', '1pixel', '1', '5', '10', '25', '50', '75', '90', '99'],\n",
    "    'Accuracy': [overall_table[col].values[0] for col in acc_columns]\n",
    "})\n",
    "\n",
    "# combine tables\n",
    "combined_table = pd.concat([auc_table, acc_table['Accuracy']], axis=1)\n",
    "\n",
    "print(combined_table.to_string(index=False))"
   ]
  },
  {
   "cell_type": "markdown",
   "metadata": {},
   "source": [
    "# Classwise Scores"
   ]
  },
  {
   "cell_type": "code",
   "execution_count": 4,
   "metadata": {},
   "outputs": [
    {
     "name": "stdout",
     "output_type": "stream",
     "text": [
      "Dataset                 Metric breastmnist       \n",
      "Class                                    0      1\n",
      "0            Accuracy_original         0.0  100.0\n",
      "1        Accuracy_noisy_1pixel         0.0  100.0\n",
      "2            Accuracy_noisy_1%         0.0  100.0\n",
      "3            Accuracy_noisy_5%         0.0  100.0\n",
      "4           Accuracy_noisy_10%         0.0  100.0\n",
      "5           Accuracy_noisy_25%         0.0  100.0\n",
      "6           Accuracy_noisy_50%         0.0  100.0\n",
      "7           Accuracy_noisy_75%         0.0  100.0\n",
      "8           Accuracy_noisy_90%         0.0  100.0\n",
      "9           Accuracy_noisy_99%         0.0  100.0\n"
     ]
    }
   ],
   "source": [
    "class_table = pd.read_csv(result_path + dataset_name + '_' + 'class_results.csv')\n",
    "\n",
    "# Create the DataFrame from the original data\n",
    "df = pd.DataFrame(class_table)\n",
    "\n",
    "# Remove the 'Split' column\n",
    "df = df.drop(columns=['Split'])\n",
    "\n",
    "# Transpose using set_index and transpose\n",
    "transposed_df = df.set_index([\"Dataset\", \"Class\"]).transpose()\n",
    "transposed_df.reset_index(inplace=True)\n",
    "\n",
    "# Make it more presentable by renaming columns\n",
    "transposed_df.rename(columns={\"index\": \"Metric\"}, inplace=True)\n",
    "transposed_df.columns.name = None\n",
    "\n",
    "# Display the formatted DataFrame\n",
    "print(transposed_df)"
   ]
  }
 ],
 "metadata": {
  "kernelspec": {
   "display_name": "cucim",
   "language": "python",
   "name": "python3"
  },
  "language_info": {
   "codemirror_mode": {
    "name": "ipython",
    "version": 3
   },
   "file_extension": ".py",
   "mimetype": "text/x-python",
   "name": "python",
   "nbconvert_exporter": "python",
   "pygments_lexer": "ipython3",
   "version": "3.8.19"
  }
 },
 "nbformat": 4,
 "nbformat_minor": 2
}
